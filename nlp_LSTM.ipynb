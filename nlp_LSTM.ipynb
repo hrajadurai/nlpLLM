{
 "cells": [
  {
   "cell_type": "markdown",
   "metadata": {
    "id": "AMGXXgNF7k61"
   },
   "source": [
    "# __Text Classification Using LSTM__\n",
    "\n",
    "\n",
    "Let's see how to classify the text using LSTM (Long Short-Term Memory)."
   ]
  },
  {
   "cell_type": "code",
   "execution_count": null,
   "metadata": {
    "colab": {
     "base_uri": "https://localhost:8080/"
    },
    "executionInfo": {
     "elapsed": 1134,
     "status": "ok",
     "timestamp": 1716293505891,
     "user": {
      "displayName": "Ashish Jangid",
      "userId": "15170006874299393728"
     },
     "user_tz": -330
    },
    "id": "RME2Qywv_p7Z",
    "outputId": "91e53b1f-b3c8-4d87-d542-0f1e524bb9cf"
   },
   "outputs": [
    {
     "name": "stderr",
     "output_type": "stream",
     "text": [
      "[nltk_data] Downloading package stopwords to /root/nltk_data...\n",
      "[nltk_data]   Unzipping corpora/stopwords.zip.\n"
     ]
    },
    {
     "data": {
      "text/plain": [
       "True"
      ]
     },
     "execution_count": 2,
     "metadata": {},
     "output_type": "execute_result"
    }
   ],
   "source": [
    "import nltk\n",
    "nltk.download('stopwords')"
   ]
  },
  {
   "cell_type": "markdown",
   "metadata": {
    "id": "VuJT1hcu92er"
   },
   "source": [
    "## Steps to  be followed:\n",
    "\n",
    "1. Import the libraries\n",
    "2. Define the hyperparameter\n",
    "3. Preprocess the data and print the lengths of the labels and articles lists\n",
    "4. Split the data into training and validation sets\n",
    "5. Initialize a tokenizer and fitting it to the training articles\n",
    "6. Convert the training articles into sequences using the tokenizer\n",
    "7. Pad the sequence\n",
    "8. Print the length of validation sequences and the shape of validation padded\n",
    "9. Train the model\n",
    "10. Compile the model\n",
    "11. Plot the graph"
   ]
  },
  {
   "cell_type": "markdown",
   "metadata": {
    "id": "nKxl5ljN-IKH"
   },
   "source": [
    "### Step 1: Import the libraries\n",
    "- Import the required libraries."
   ]
  },
  {
   "cell_type": "code",
   "execution_count": null,
   "metadata": {
    "id": "qLg1HxV27k64"
   },
   "outputs": [],
   "source": [
    "import csv\n",
    "import tensorflow as tf\n",
    "import numpy as np\n",
    "from tensorflow.keras.preprocessing.text import Tokenizer\n",
    "from tensorflow.keras.preprocessing.sequence import pad_sequences\n",
    "from nltk.corpus import stopwords\n",
    "STOPWORDS = set(stopwords.words('english'))\n",
    "import matplotlib.pyplot as plt\n"
   ]
  },
  {
   "cell_type": "markdown",
   "metadata": {
    "id": "8cvQu2uW_AF0"
   },
   "source": [
    "### Step 2: Define the hyperparameter\n",
    "- Set the value of __vocab_size__ to __5000__, representing the size of the vocabulary.\n",
    "- Set the value of __embedding_dim__ to __64__, specifying the dimensionality of the word embeddings.\n",
    "- Set the value of __max_length__ to __200__, indicating the maximum length of input sequences.\n",
    "- Set the value of __padding_type__ to __post__, specifying that padding should be added at the end of sequences.\n",
    "- Set the value of __trunc_type__ to __post__, indicating that truncation should be applied at the end of sequences.\n",
    "- Set the value of __oov_tok__ to __OOV__, representing the token to be used for out-of-vocabulary words.\n",
    "- Set the value of __training_portion__ to __0.8__, representing the proportion of data to be used for training."
   ]
  },
  {
   "cell_type": "code",
   "execution_count": null,
   "metadata": {
    "id": "BecOwkf37k66"
   },
   "outputs": [],
   "source": [
    "vocab_size = 5000\n",
    "embedding_dim = 64\n",
    "max_length = 200\n",
    "padding_type = 'post'\n",
    "trunc_type = 'post'\n",
    "oov_tok = '<OOV>'\n",
    "training_portion = .8"
   ]
  },
  {
   "cell_type": "markdown",
   "metadata": {
    "id": "x5682GVs7k66"
   },
   "source": [
    "### Step 3: Preprocess the data and print the lengths of the labels and articles lists\n",
    "\n",
    "- Define two empty lists, articles, and labels to store the articles and labels, respectively.\n",
    "- Read the contents of the **bbc-text.csv** file using csv.reader and iterate through each row.\n",
    "- Extract the label from the first column of each row and append it to the labels list.\n",
    "- Process the article from the second column by removing stopwords and replacing consecutive spaces with a single space, and then append it to the articles list.\n",
    "- Print the lengths of the labels and articles lists to display the number of labels and processed articles, respectively."
   ]
  },
  {
   "cell_type": "code",
   "execution_count": null,
   "metadata": {
    "colab": {
     "base_uri": "https://localhost:8080/"
    },
    "executionInfo": {
     "elapsed": 2460,
     "status": "ok",
     "timestamp": 1716293662766,
     "user": {
      "displayName": "Ashish Jangid",
      "userId": "15170006874299393728"
     },
     "user_tz": -330
    },
    "id": "YOrfsrUe7k67",
    "outputId": "26e1754d-1c23-4c59-ccb5-1832c3020225"
   },
   "outputs": [
    {
     "name": "stdout",
     "output_type": "stream",
     "text": [
      "2225\n",
      "2225\n"
     ]
    }
   ],
   "source": [
    "articles = []\n",
    "labels = []\n",
    "\n",
    "with open(\"bbc-text.csv\", 'r') as csvfile:\n",
    "    reader = csv.reader(csvfile, delimiter=',')\n",
    "    next(reader)\n",
    "    for row in reader:\n",
    "        labels.append(row[0])\n",
    "        article = row[1]\n",
    "        for word in STOPWORDS:\n",
    "            token = ' ' + word + ' '\n",
    "            article = article.replace(token, ' ')\n",
    "            article = article.replace(' ', ' ')\n",
    "        articles.append(article)\n",
    "print(len(labels))\n",
    "print(len(articles))"
   ]
  },
  {
   "cell_type": "markdown",
   "metadata": {
    "id": "Qtk-qqt67k67"
   },
   "source": [
    "__Observations:__\n",
    "- There are only **2,225** articles in the data.\n",
    "- Then, we split into a training set and a validation set, according to the parameter we set earlier: 80% for training and 20% for validation."
   ]
  },
  {
   "cell_type": "markdown",
   "metadata": {
    "id": "C72gvCwGSa0k"
   },
   "source": [
    "### Step 4: Split the data into training and validation sets\n",
    "- Calculate the **train_size** by multiplying the length of the articles list with __training_portion__ and converting it to an integer.\n",
    "- Create **train_articles** by slicing the articles list from index **0** to **train_size.**\n",
    "- Create **train_labels** by slicing the labels list from index** 0 **to **train_size.**\n",
    "- Create validation_articles by slicing the articles list from **train_size** onward.\n",
    "- Create **validation_labels** by slicing the labels list from **train_size** onward.\n",
    "- Print the **train_size** to display the calculated value.\n",
    "\n",
    "- The lengths of **train_articles**, **train_labels**, **validation_articles**, and **validation_labels** represent the number of items in each list."
   ]
  },
  {
   "cell_type": "code",
   "execution_count": null,
   "metadata": {
    "colab": {
     "base_uri": "https://localhost:8080/"
    },
    "executionInfo": {
     "elapsed": 407,
     "status": "ok",
     "timestamp": 1716293667585,
     "user": {
      "displayName": "Ashish Jangid",
      "userId": "15170006874299393728"
     },
     "user_tz": -330
    },
    "id": "EKMT9Fb37k68",
    "outputId": "7751aca2-adfe-46c8-f1c6-261886002fd3"
   },
   "outputs": [
    {
     "name": "stdout",
     "output_type": "stream",
     "text": [
      "1780\n",
      "1780\n",
      "1780\n",
      "445\n",
      "445\n"
     ]
    }
   ],
   "source": [
    "train_size = int(len(articles) * training_portion)\n",
    "\n",
    "train_articles = articles[0: train_size]\n",
    "train_labels = labels[0: train_size]\n",
    "\n",
    "validation_articles = articles[train_size:]\n",
    "validation_labels = labels[train_size:]\n",
    "\n",
    "print(train_size)\n",
    "print(len(train_articles))\n",
    "print(len(train_labels))\n",
    "print(len(validation_articles))\n",
    "print(len(validation_labels))"
   ]
  },
  {
   "cell_type": "markdown",
   "metadata": {
    "id": "dx4Pb61WT2F3"
   },
   "source": [
    "__Observations:__\n",
    "- The value of **train_size** is calculated based on the proportion of training data.\n",
    "- The lengths of **train_articles**, **train_labels**, **validation_articles**, and **validation_labels** representing the number of items in each list."
   ]
  },
  {
   "cell_type": "markdown",
   "metadata": {
    "id": "bSR2G2lrWrue"
   },
   "source": [
    "### Step 5: Initialize a tokenizer and fit it on the training articles\n",
    "\n",
    "- Initialize a **Tokenizer** object named tokenizer with the specified parameters: **num_words** representing the vocabulary size and **oov_token** representing the out-of-vocabulary token.\n",
    "- Fit the tokenizer on the training articles **(train_articles)** using the **fit_on_texts** method.\n",
    "- This step updates the tokenizer's internal word index based on the words in the training articles.\n",
    "- Assign the word index obtained from the tokenizer to the variable **word_index.**\n",
    "- Extract the first 10 items from the word_index dictionary.\n",
    "- Print the resulting dictionary."
   ]
  },
  {
   "cell_type": "code",
   "execution_count": null,
   "metadata": {
    "id": "2JrnZlTL7k68"
   },
   "outputs": [],
   "source": [
    "tokenizer = Tokenizer(num_words = vocab_size, oov_token=oov_tok)\n",
    "tokenizer.fit_on_texts(train_articles)\n",
    "word_index = tokenizer.word_index"
   ]
  },
  {
   "cell_type": "code",
   "execution_count": null,
   "metadata": {
    "colab": {
     "base_uri": "https://localhost:8080/"
    },
    "executionInfo": {
     "elapsed": 436,
     "status": "ok",
     "timestamp": 1716293674951,
     "user": {
      "displayName": "Ashish Jangid",
      "userId": "15170006874299393728"
     },
     "user_tz": -330
    },
    "id": "7lhT9_-f7k68",
    "outputId": "d7482fc2-21f5-43a6-9f90-7b8e0fabbfbc"
   },
   "outputs": [
    {
     "data": {
      "text/plain": [
       "{'<OOV>': 1,\n",
       " 'said': 2,\n",
       " 'mr': 3,\n",
       " 'would': 4,\n",
       " 'year': 5,\n",
       " 'also': 6,\n",
       " 'people': 7,\n",
       " 'new': 8,\n",
       " 'us': 9,\n",
       " 'one': 10}"
      ]
     },
     "execution_count": 9,
     "metadata": {},
     "output_type": "execute_result"
    }
   ],
   "source": [
    "dict(list(word_index.items())[0:10])"
   ]
  },
  {
   "cell_type": "markdown",
   "metadata": {
    "id": "CQ_XTmT_eU7b"
   },
   "source": [
    "__Observations:__\n",
    "- The code prints a dictionary containing the first 10 items from the word_index dictionary.\n",
    "- These items represent a subset of the word-to-index mappings generated by the tokenizer."
   ]
  },
  {
   "cell_type": "markdown",
   "metadata": {
    "id": "jTDip0vPe30D"
   },
   "source": [
    "### Step 6: Convert the training articles into sequences using the tokenizer\n",
    "- Convert the training articles **(train_articles)** into sequences using the **texts_to_sequences** method of the tokenizer object and assign the result to **train_sequences.**\n",
    "- Print the sequence representation of the 11th training article (index 10) by accessing **train_sequences[10].**"
   ]
  },
  {
   "cell_type": "code",
   "execution_count": null,
   "metadata": {
    "colab": {
     "base_uri": "https://localhost:8080/"
    },
    "executionInfo": {
     "elapsed": 451,
     "status": "ok",
     "timestamp": 1716293679762,
     "user": {
      "displayName": "Ashish Jangid",
      "userId": "15170006874299393728"
     },
     "user_tz": -330
    },
    "id": "qaNkkgzP7k69",
    "outputId": "ff9edc54-5b9f-4f6a-ab07-b7b8c2c76896"
   },
   "outputs": [
    {
     "name": "stdout",
     "output_type": "stream",
     "text": [
      "[2432, 1, 225, 4994, 22, 641, 586, 225, 4994, 1, 1, 1662, 1, 1, 2432, 22, 564, 1, 1, 140, 278, 1, 140, 278, 796, 823, 662, 2308, 1, 1144, 1693, 1, 1720, 4995, 1, 1, 1, 1, 1, 4737, 1, 1, 122, 4514, 1, 2, 2875, 1506, 352, 4738, 1, 52, 341, 1, 352, 2172, 3962, 41, 22, 3794, 1, 1, 1, 1, 542, 1, 1, 1, 835, 631, 2367, 347, 4739, 1, 365, 22, 1, 787, 2368, 1, 4301, 138, 10, 1, 3664, 682, 3532, 1, 22, 1, 414, 823, 662, 1, 90, 13, 633, 1, 225, 4994, 1, 599, 1, 1693, 1021, 1, 4996, 808, 1863, 117, 1, 1, 1, 2975, 22, 1, 99, 278, 1, 1607, 4997, 542, 492, 1, 1445, 4740, 779, 1320, 1, 1860, 10, 33, 641, 319, 1, 62, 478, 564, 301, 1507, 22, 479, 1, 1, 1665, 1, 797, 1, 3067, 1, 1365, 6, 1, 2432, 564, 22, 2972, 4734, 1, 1, 1, 1, 1, 850, 39, 1824, 675, 297, 26, 979, 1, 882, 22, 361, 22, 13, 301, 1507, 1343, 374, 20, 63, 883, 1096, 4302, 247]\n"
     ]
    }
   ],
   "source": [
    "train_sequences  = tokenizer.texts_to_sequences(train_articles)\n",
    "\n",
    "print(train_sequences[10])"
   ]
  },
  {
   "cell_type": "markdown",
   "metadata": {
    "id": "__Jgr_cdfR_6"
   },
   "source": [
    "__Observation:__\n",
    "- The code prints the sequence representation of the 11th training article (index 10) in the **train_sequences** list.\n",
    "- The output is a list of integers, where each integer represents the index of a word in the tokenizer's word index vocabulary that corresponds to a word in the article."
   ]
  },
  {
   "cell_type": "markdown",
   "metadata": {
    "id": "E60-EoRMh58g"
   },
   "source": [
    "### Step 7: Pad the sequence\n",
    "- Pad the sequences in **train_sequences** using the **pad_sequences** function.\n",
    "- Set the maximum length of the padded sequences to **max_length.**\n",
    "- Specify the padding type as **padding_type** and the truncation type as **trunc_type.**\n",
    "- Assign the padded sequences to the variable **train_padded.**"
   ]
  },
  {
   "cell_type": "code",
   "execution_count": null,
   "metadata": {
    "id": "msiF0l767k69"
   },
   "outputs": [],
   "source": [
    "train_padded = pad_sequences(train_sequences, maxlen=max_length, padding=padding_type, truncating=trunc_type)"
   ]
  },
  {
   "cell_type": "code",
   "execution_count": null,
   "metadata": {
    "colab": {
     "base_uri": "https://localhost:8080/"
    },
    "executionInfo": {
     "elapsed": 392,
     "status": "ok",
     "timestamp": 1716293691378,
     "user": {
      "displayName": "Ashish Jangid",
      "userId": "15170006874299393728"
     },
     "user_tz": -330
    },
    "id": "iKwGCkXf7k69",
    "outputId": "eac2bbe1-15e5-49d7-efbc-7c3f0d9d9623"
   },
   "outputs": [
    {
     "name": "stdout",
     "output_type": "stream",
     "text": [
      "[2432, 1, 225, 4994, 22, 641, 586, 225, 4994, 1, 1, 1662, 1, 1, 2432, 22, 564, 1, 1, 140, 278, 1, 140, 278, 796, 823, 662, 2308, 1, 1144, 1693, 1, 1720, 4995, 1, 1, 1, 1, 1, 4737, 1, 1, 122, 4514, 1, 2, 2875, 1506, 352, 4738, 1, 52, 341, 1, 352, 2172, 3962, 41, 22, 3794, 1, 1, 1, 1, 542, 1, 1, 1, 835, 631, 2367, 347, 4739, 1, 365, 22, 1, 787, 2368, 1, 4301, 138, 10, 1, 3664, 682, 3532, 1, 22, 1, 414, 823, 662, 1, 90, 13, 633, 1, 225, 4994, 1, 599, 1, 1693, 1021, 1, 4996, 808, 1863, 117, 1, 1, 1, 2975, 22, 1, 99, 278, 1, 1607, 4997, 542, 492, 1, 1445, 4740, 779, 1320, 1, 1860, 10, 33, 641, 319, 1, 62, 478, 564, 301, 1507, 22, 479, 1, 1, 1665, 1, 797, 1, 3067, 1, 1365, 6, 1, 2432, 564, 22, 2972, 4734, 1, 1, 1, 1, 1, 850, 39, 1824, 675, 297, 26, 979, 1, 882, 22, 361, 22, 13, 301, 1507, 1343, 374, 20, 63, 883, 1096, 4302, 247]\n"
     ]
    }
   ],
   "source": [
    "print(train_sequences[10])"
   ]
  },
  {
   "cell_type": "markdown",
   "metadata": {
    "id": "k2TGYE5IjhOI"
   },
   "source": [
    "__Observations:__\n",
    "- The code prints the sequence representation of the 11th training article (index 10) in the **train_sequences** list.\n",
    "- The output is a list of integers, where each integer represents the index of a word in the tokenizer's word index vocabulary that corresponds to a word in the article."
   ]
  },
  {
   "cell_type": "code",
   "execution_count": null,
   "metadata": {
    "colab": {
     "base_uri": "https://localhost:8080/"
    },
    "executionInfo": {
     "elapsed": 6,
     "status": "ok",
     "timestamp": 1716293695642,
     "user": {
      "displayName": "Ashish Jangid",
      "userId": "15170006874299393728"
     },
     "user_tz": -330
    },
    "id": "EQbLYMWl7k6-",
    "outputId": "81762499-f508-4035-dab5-8002e6c4a145"
   },
   "outputs": [
    {
     "name": "stdout",
     "output_type": "stream",
     "text": [
      "[2432    1  225 4994   22  641  586  225 4994    1    1 1662    1    1\n",
      " 2432   22  564    1    1  140  278    1  140  278  796  823  662 2308\n",
      "    1 1144 1693    1 1720 4995    1    1    1    1    1 4737    1    1\n",
      "  122 4514    1    2 2875 1506  352 4738    1   52  341    1  352 2172\n",
      " 3962   41   22 3794    1    1    1    1  542    1    1    1  835  631\n",
      " 2367  347 4739    1  365   22    1  787 2368    1 4301  138   10    1\n",
      " 3664  682 3532    1   22    1  414  823  662    1   90   13  633    1\n",
      "  225 4994    1  599    1 1693 1021    1 4996  808 1863  117    1    1\n",
      "    1 2975   22    1   99  278    1 1607 4997  542  492    1 1445 4740\n",
      "  779 1320    1 1860   10   33  641  319    1   62  478  564  301 1507\n",
      "   22  479    1    1 1665    1  797    1 3067    1 1365    6    1 2432\n",
      "  564   22 2972 4734    1    1    1    1    1  850   39 1824  675  297\n",
      "   26  979    1  882   22  361   22   13  301 1507 1343  374   20   63\n",
      "  883 1096 4302  247    0    0    0    0    0    0    0    0    0    0\n",
      "    0    0    0    0]\n"
     ]
    }
   ],
   "source": [
    "print(train_padded[10])"
   ]
  },
  {
   "cell_type": "markdown",
   "metadata": {
    "id": "kR1yorJLkMpI"
   },
   "source": [
    "__Observation:__\n",
    "- The code prints the padded sequence representation of the 11th training article.\n",
    "- The output is a list of integers representing the word indices of the corresponding words in the article, after applying padding to ensure a consistent length (max_length) for all sequences."
   ]
  },
  {
   "cell_type": "markdown",
   "metadata": {
    "id": "5QD6M00flHAm"
   },
   "source": [
    "### Step 8: Print the length of validation sequences and the shape of validation padded\n",
    "- Convert the validation articles into sequences using the tokenizer and pad the sequences to a maximum length. Assign the result to **validation_padded.**\n",
    "- Print the length of **validation_sequences** and the shape of **validation_padded.**\n",
    "- Create a tokenizer for the labels and fit it on the labels list.\n",
    "- Convert the training and validation labels into sequences using the label tokenizer and store the results in **training_label_seq** and **validation_label_seq** as NumPy arrays."
   ]
  },
  {
   "cell_type": "code",
   "execution_count": null,
   "metadata": {
    "colab": {
     "base_uri": "https://localhost:8080/"
    },
    "executionInfo": {
     "elapsed": 529,
     "status": "ok",
     "timestamp": 1716293700391,
     "user": {
      "displayName": "Ashish Jangid",
      "userId": "15170006874299393728"
     },
     "user_tz": -330
    },
    "id": "fpgc3k9y7k6-",
    "outputId": "cbf8fed7-3631-41e0-bbb4-17128054d6a9"
   },
   "outputs": [
    {
     "name": "stdout",
     "output_type": "stream",
     "text": [
      "445\n",
      "(445, 200)\n"
     ]
    }
   ],
   "source": [
    "validation_sequences = tokenizer.texts_to_sequences(validation_articles)\n",
    "validation_padded = pad_sequences(validation_sequences, maxlen=max_length, padding=padding_type, truncating=trunc_type)\n",
    "\n",
    "print(len(validation_sequences))\n",
    "print(validation_padded.shape)"
   ]
  },
  {
   "cell_type": "markdown",
   "metadata": {
    "id": "eFFWDC12mo1e"
   },
   "source": [
    "__Observations:__\n",
    "- The length of **validation_sequences**, indicating the number of sequences in the validation set.\n",
    "- The shape of **validation_padded**, representing the dimensions of the padded validation sequences."
   ]
  },
  {
   "cell_type": "code",
   "execution_count": null,
   "metadata": {
    "colab": {
     "base_uri": "https://localhost:8080/"
    },
    "executionInfo": {
     "elapsed": 4,
     "status": "ok",
     "timestamp": 1716293704033,
     "user": {
      "displayName": "Ashish Jangid",
      "userId": "15170006874299393728"
     },
     "user_tz": -330
    },
    "id": "8Q3nLd8W7k6-",
    "outputId": "ccdc052e-89db-4df8-b206-90629bd85579"
   },
   "outputs": [
    {
     "name": "stdout",
     "output_type": "stream",
     "text": [
      "{'business', 'sport', 'entertainment', 'politics', 'tech'}\n"
     ]
    }
   ],
   "source": [
    "print(set(labels))"
   ]
  },
  {
   "cell_type": "markdown",
   "metadata": {
    "id": "y0aPJkPCnkh3"
   },
   "source": [
    "__Observation:__\n",
    "- The output is a set containing the unique labels: 'business', 'tech', 'entertainment', 'politics', and 'sport'."
   ]
  },
  {
   "cell_type": "code",
   "execution_count": null,
   "metadata": {
    "id": "WcsrX7dP7k6-"
   },
   "outputs": [],
   "source": [
    "label_tokenizer = Tokenizer()\n",
    "label_tokenizer.fit_on_texts(labels)\n",
    "\n",
    "training_label_seq = np.array(label_tokenizer.texts_to_sequences(train_labels))\n",
    "validation_label_seq = np.array(label_tokenizer.texts_to_sequences(validation_labels))"
   ]
  },
  {
   "cell_type": "markdown",
   "metadata": {
    "id": "q7VlgNsjpwKy"
   },
   "source": [
    "__Observations:__\n",
    "- The output of this code is the conversion of label sequences for the training and validation sets.\n",
    "- The **training_label_seq** and **validation_label_seq** are NumPy arrays containing the label sequences for the respective sets, based on the word index mapping generated by the **label_tokenizer**"
   ]
  },
  {
   "cell_type": "markdown",
   "metadata": {
    "id": "aefTdVG3ohC2"
   },
   "source": [
    "### Step 9: Train the model\n",
    "- Create a sequential model using **tf.keras.Sequential().**\n",
    "- Add an embedding layer to the model with the specified vocabulary size **(vocab_size)** and embedding dimension **(embedding_dim).**\n",
    "- Add a bidirectional LSTM layer to the model with the same embedding dimension.\n",
    "- Add a dense layer to the model with the embedding dimension as the number of units and **relu** activation function.\n",
    "- Add a dense layer with 6 units and the **softmax** activation function to the model.\n",
    "- Print a summary of the model's architecture using **model.summary().**"
   ]
  },
  {
   "cell_type": "code",
   "execution_count": null,
   "metadata": {
    "colab": {
     "base_uri": "https://localhost:8080/"
    },
    "executionInfo": {
     "elapsed": 1378,
     "status": "ok",
     "timestamp": 1716293742070,
     "user": {
      "displayName": "Ashish Jangid",
      "userId": "15170006874299393728"
     },
     "user_tz": -330
    },
    "id": "R2k0E1Cb7k6_",
    "outputId": "1d8613e3-dce0-4c95-e558-0be54f75cb1c"
   },
   "outputs": [
    {
     "name": "stdout",
     "output_type": "stream",
     "text": [
      "Model: \"sequential\"\n",
      "_________________________________________________________________\n",
      " Layer (type)                Output Shape              Param #   \n",
      "=================================================================\n",
      " embedding (Embedding)       (None, None, 64)          320000    \n",
      "                                                                 \n",
      " bidirectional (Bidirection  (None, 128)               66048     \n",
      " al)                                                             \n",
      "                                                                 \n",
      " dense (Dense)               (None, 64)                8256      \n",
      "                                                                 \n",
      " dense_1 (Dense)             (None, 6)                 390       \n",
      "                                                                 \n",
      "=================================================================\n",
      "Total params: 394694 (1.51 MB)\n",
      "Trainable params: 394694 (1.51 MB)\n",
      "Non-trainable params: 0 (0.00 Byte)\n",
      "_________________________________________________________________\n"
     ]
    }
   ],
   "source": [
    "model = tf.keras.Sequential([\n",
    "\n",
    "    tf.keras.layers.Embedding(vocab_size, embedding_dim),\n",
    "    tf.keras.layers.Bidirectional(tf.keras.layers.LSTM(embedding_dim)),\n",
    "    tf.keras.layers.Dense(embedding_dim, activation='relu'),\n",
    "\n",
    "    tf.keras.layers.Dense(6, activation='softmax')\n",
    "])\n",
    "model.summary()"
   ]
  },
  {
   "cell_type": "markdown",
   "metadata": {
    "id": "2RYZ5eRIqHSk"
   },
   "source": [
    "__Observation:__\n",
    "- The code outputs a summary of the model's architecture, including the number of parameters and the shape of each layer in the model."
   ]
  },
  {
   "cell_type": "markdown",
   "metadata": {
    "id": "2es6RORPqq1M"
   },
   "source": [
    "### Step 10: Compile the model\n",
    "- Compile the model using **model.compile()** with the loss function set to **sparse_categorical_crossentropy**, the optimizer set to **adam**, and the metrics set to **accuracy.**\n",
    "- Set the number of epochs to 10.\n",
    "- Train the model using **model.fit()** with the training padded sequences **(train_padded)** and training label sequences **(training_label_seq).**\n",
    "- Specify the number of epochs as **num_epochs**, the validation data as the validation padded sequences **(validation_padded)** and validation label sequences **(validation_label_seq)**, and **verbose** mode as **2.**"
   ]
  },
  {
   "cell_type": "code",
   "execution_count": null,
   "metadata": {
    "colab": {
     "base_uri": "https://localhost:8080/"
    },
    "executionInfo": {
     "elapsed": 115405,
     "status": "ok",
     "timestamp": 1716293867272,
     "user": {
      "displayName": "Ashish Jangid",
      "userId": "15170006874299393728"
     },
     "user_tz": -330
    },
    "id": "oOBn4QRv7k6_",
    "outputId": "d6fc59c3-6ca5-4a27-c505-6b852208c57b"
   },
   "outputs": [
    {
     "name": "stdout",
     "output_type": "stream",
     "text": [
      "Epoch 1/10\n",
      "56/56 - 16s - loss: 1.6086 - accuracy: 0.3118 - val_loss: 1.4378 - val_accuracy: 0.3303 - 16s/epoch - 291ms/step\n",
      "Epoch 2/10\n",
      "56/56 - 10s - loss: 0.8830 - accuracy: 0.6865 - val_loss: 0.4524 - val_accuracy: 0.8562 - 10s/epoch - 178ms/step\n",
      "Epoch 3/10\n",
      "56/56 - 11s - loss: 0.3061 - accuracy: 0.8989 - val_loss: 0.3677 - val_accuracy: 0.8742 - 11s/epoch - 202ms/step\n",
      "Epoch 4/10\n",
      "56/56 - 11s - loss: 0.2037 - accuracy: 0.9281 - val_loss: 0.3847 - val_accuracy: 0.8944 - 11s/epoch - 200ms/step\n",
      "Epoch 5/10\n",
      "56/56 - 11s - loss: 0.1643 - accuracy: 0.9590 - val_loss: 0.3847 - val_accuracy: 0.8899 - 11s/epoch - 199ms/step\n",
      "Epoch 6/10\n",
      "56/56 - 10s - loss: 0.0617 - accuracy: 0.9921 - val_loss: 0.3790 - val_accuracy: 0.8831 - 10s/epoch - 185ms/step\n",
      "Epoch 7/10\n",
      "56/56 - 11s - loss: 0.0273 - accuracy: 0.9972 - val_loss: 0.2844 - val_accuracy: 0.9146 - 11s/epoch - 189ms/step\n",
      "Epoch 8/10\n",
      "56/56 - 11s - loss: 0.0088 - accuracy: 1.0000 - val_loss: 0.2908 - val_accuracy: 0.9169 - 11s/epoch - 201ms/step\n",
      "Epoch 9/10\n",
      "56/56 - 11s - loss: 0.0052 - accuracy: 1.0000 - val_loss: 0.3032 - val_accuracy: 0.9079 - 11s/epoch - 202ms/step\n",
      "Epoch 10/10\n",
      "56/56 - 11s - loss: 0.0034 - accuracy: 1.0000 - val_loss: 0.3086 - val_accuracy: 0.9169 - 11s/epoch - 203ms/step\n"
     ]
    }
   ],
   "source": [
    "\n",
    "model.compile(loss='sparse_categorical_crossentropy', optimizer='adam', metrics=['accuracy'])\n",
    "\n",
    "num_epochs = 10\n",
    "\n",
    "history = model.fit(train_padded, training_label_seq, epochs=num_epochs, validation_data=(validation_padded, validation_label_seq), verbose=2)\n"
   ]
  },
  {
   "cell_type": "markdown",
   "metadata": {
    "id": "WqnhF_pirkJL"
   },
   "source": [
    "__Observations:__\n",
    "- The code trains the model for the specified number of epochs and records the training and validation accuracy and loss metrics.\n",
    "- The output is an object named history that contains information about the training process, such as the loss and accuracy values at each epoch."
   ]
  },
  {
   "cell_type": "markdown",
   "metadata": {
    "id": "JlqqXKGDtBhm"
   },
   "source": [
    "### Step 11: Plot the graph\n",
    "- Define a function named **plot_graphs** that takes history and strings as inputs. Inside the function, plot the training and validation values of the given metric (string) from the history object using **plt.plot().**\n",
    "- Set the x-axis label as **Epochs** and the y-axis label as the given metric (string).\n",
    "- Call the **plot_graphs** function twice, first with **history** and **accuracy** as arguments, and then with **history** and **loss** as arguments.\n",
    "- Display the generated plots showing the training and validation values of the accuracy and loss metrics over the epochs."
   ]
  },
  {
   "cell_type": "code",
   "execution_count": null,
   "metadata": {
    "colab": {
     "base_uri": "https://localhost:8080/",
     "height": 881
    },
    "executionInfo": {
     "elapsed": 1929,
     "status": "ok",
     "timestamp": 1716293887654,
     "user": {
      "displayName": "Ashish Jangid",
      "userId": "15170006874299393728"
     },
     "user_tz": -330
    },
    "id": "ovA5JGsp7k6_",
    "outputId": "55d1bb29-c636-4739-b944-7b560aa64d82"
   },
   "outputs": [
    {
     "data": {
      "image/png": "[encoded data removed]",
      "text/plain": [
       "<Figure size 640x480 with 1 Axes>"
      ]
     },
     "metadata": {},
     "output_type": "display_data"
    },
    {
     "data": {
      "image/png": "[encoded data removed]",
      "text/plain": [
       "<Figure size 640x480 with 1 Axes>"
      ]
     },
     "metadata": {},
     "output_type": "display_data"
    }
   ],
   "source": [
    "def plot_graphs(history, string):\n",
    "  plt.plot(history.history[string])\n",
    "  plt.plot(history.history['val_'+string])\n",
    "  plt.xlabel(\"Epochs\")\n",
    "  plt.ylabel(string)\n",
    "  plt.legend([string, 'val_'+string])\n",
    "  plt.show()\n",
    "\n",
    "plot_graphs(history, \"accuracy\")\n",
    "plot_graphs(history, \"loss\")"
   ]
  },
  {
   "cell_type": "markdown",
   "metadata": {
    "id": "3l5WA6eIhr9o"
   },
   "source": [
    "**Observation**\n",
    "\n",
    "The plots dislay the trends in training and validation accuracy and loss over the epochs, highlighting the model's learning progress and any discrepancies between training and validation performance. This helps assess the model's generalization and identify potential overfitting or underfitting."
   ]
  },
  {
   "cell_type": "code",
   "execution_count": null,
   "metadata": {
    "id": "F8zdvVIpECP4"
   },
   "outputs": [],
   "source": []
  }
 ],
 "metadata": {
  "colab": {
   "provenance": []
  },
  "kernelspec": {
   "display_name": "Python 3 [3.10]",
   "language": "python",
   "name": "python3"
  },
  "language_info": {
   "codemirror_mode": {
    "name": "ipython",
    "version": 3
   },
   "file_extension": ".py",
   "mimetype": "text/x-python",
   "name": "python",
   "nbconvert_exporter": "python",
   "pygments_lexer": "ipython3",
   "version": "3.10.2"
  }
 },
 "nbformat": 4,
 "nbformat_minor": 4
}
